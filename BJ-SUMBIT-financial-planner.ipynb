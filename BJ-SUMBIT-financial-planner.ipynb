{
 "cells": [
  {
   "cell_type": "markdown",
   "metadata": {},
   "source": [
    "# Unit 5 - Financial Planning\n"
   ]
  },
  {
   "cell_type": "code",
   "execution_count": 1,
   "metadata": {},
   "outputs": [],
   "source": [
    "# Initial imports\n",
    "import os\n",
    "import requests\n",
    "import pandas as pd\n",
    "from dotenv import load_dotenv\n",
    "import alpaca_trade_api as tradeapi\n",
    "from MCForecastTools import MCSimulation\n",
    "\n",
    "%matplotlib inline"
   ]
  },
  {
   "cell_type": "code",
   "execution_count": 2,
   "metadata": {},
   "outputs": [
    {
     "data": {
      "text/plain": [
       "True"
      ]
     },
     "execution_count": 2,
     "metadata": {},
     "output_type": "execute_result"
    }
   ],
   "source": [
    "# Load .env enviroment variables\n",
    "load_dotenv()"
   ]
  },
  {
   "cell_type": "markdown",
   "metadata": {},
   "source": [
    "## Part 1 - Personal Finance Planner"
   ]
  },
  {
   "cell_type": "markdown",
   "metadata": {},
   "source": [
    "### Collect Crypto Prices Using the `requests` Library"
   ]
  },
  {
   "cell_type": "code",
   "execution_count": 3,
   "metadata": {},
   "outputs": [],
   "source": [
    "# Set current amount of crypto assets\n",
    "my_btc = 1.2\n",
    "my_eth = 5.3"
   ]
  },
  {
   "cell_type": "code",
   "execution_count": 4,
   "metadata": {},
   "outputs": [],
   "source": [
    "# Crypto API URLs\n",
    "btc_url = \"https://api.alternative.me/v2/ticker/Bitcoin/?convert=CAD\"\n",
    "eth_url = \"https://api.alternative.me/v2/ticker/Ethereum/?convert=CAD\"\n",
    "\n",
    "import json"
   ]
  },
  {
   "cell_type": "code",
   "execution_count": 5,
   "metadata": {},
   "outputs": [
    {
     "name": "stdout",
     "output_type": "stream",
     "text": [
      "{\n",
      "    \"data\": {\n",
      "        \"1\": {\n",
      "            \"id\": 1,\n",
      "            \"name\": \"Bitcoin\",\n",
      "            \"symbol\": \"BTC\",\n",
      "            \"website_slug\": \"bitcoin\",\n",
      "            \"rank\": 1,\n",
      "            \"circulating_supply\": 18524068,\n",
      "            \"total_supply\": 18524068,\n",
      "            \"max_supply\": 21000000,\n",
      "            \"quotes\": {\n",
      "                \"USD\": {\n",
      "                    \"price\": 12955.64,\n",
      "                    \"volume_24h\": 26472558102,\n",
      "                    \"market_cap\": 239654326080,\n",
      "                    \"percentage_change_1h\": 0.0528816020038797,\n",
      "                    \"percentage_change_24h\": 1.24413206323788,\n",
      "                    \"percentage_change_7d\": 13.2924813309541,\n",
      "                    \"percent_change_1h\": 0.0528816020038797,\n",
      "                    \"percent_change_24h\": 1.24413206323788,\n",
      "                    \"percent_change_7d\": 13.2924813309541\n",
      "                },\n",
      "                \"CAD\": {\n",
      "                    \"price\": 17008.164192,\n",
      "                    \"volume_24h\": 34753174276.3056,\n",
      "                    \"market_cap\": 314618199277.824,\n",
      "                    \"percent_change_1h\": 0.0528816020038797,\n",
      "                    \"percent_change_24h\": 1.24413206323788,\n",
      "                    \"percent_change_7d\": 13.2924813309541\n",
      "                }\n",
      "            },\n",
      "            \"last_updated\": 1603383218\n",
      "        }\n",
      "    },\n",
      "    \"metadata\": {\n",
      "        \"timestamp\": 1603383218,\n",
      "        \"num_cryptocurrencies\": 1430,\n",
      "        \"error\": null\n",
      "    }\n",
      "}\n"
     ]
    }
   ],
   "source": [
    "btc_data = requests.get(btc_url).json()\n",
    "print(json.dumps(btc_data, indent=4))"
   ]
  },
  {
   "cell_type": "code",
   "execution_count": 6,
   "metadata": {},
   "outputs": [
    {
     "name": "stdout",
     "output_type": "stream",
     "text": [
      "{\n",
      "    \"data\": {\n",
      "        \"1027\": {\n",
      "            \"id\": 1027,\n",
      "            \"name\": \"Ethereum\",\n",
      "            \"symbol\": \"ETH\",\n",
      "            \"website_slug\": \"ethereum\",\n",
      "            \"rank\": 2,\n",
      "            \"circulating_supply\": 113112784,\n",
      "            \"total_supply\": 113112784,\n",
      "            \"max_supply\": 0,\n",
      "            \"quotes\": {\n",
      "                \"USD\": {\n",
      "                    \"price\": 415.99,\n",
      "                    \"volume_24h\": 12040261861,\n",
      "                    \"market_cap\": 47001136760,\n",
      "                    \"percentage_change_1h\": 0.642691866252589,\n",
      "                    \"percentage_change_24h\": 4.91081669294464,\n",
      "                    \"percentage_change_7d\": 9.69853189184067,\n",
      "                    \"percent_change_1h\": 0.642691866252589,\n",
      "                    \"percent_change_24h\": 4.91081669294464,\n",
      "                    \"percent_change_7d\": 9.69853189184067\n",
      "                },\n",
      "                \"CAD\": {\n",
      "                    \"price\": 546.111672,\n",
      "                    \"volume_24h\": 15806455771.1208,\n",
      "                    \"market_cap\": 61703092338.528,\n",
      "                    \"percent_change_1h\": 0.642691866252589,\n",
      "                    \"percent_change_24h\": 4.91081669294464,\n",
      "                    \"percent_change_7d\": 9.69853189184067\n",
      "                }\n",
      "            },\n",
      "            \"last_updated\": 1603383171\n",
      "        }\n",
      "    },\n",
      "    \"metadata\": {\n",
      "        \"timestamp\": 1603383171,\n",
      "        \"num_cryptocurrencies\": 1430,\n",
      "        \"error\": null\n",
      "    }\n",
      "}\n"
     ]
    }
   ],
   "source": [
    "eth_data = requests.get(eth_url).json()\n",
    "print(json.dumps(eth_data, indent=4))"
   ]
  },
  {
   "cell_type": "code",
   "execution_count": 7,
   "metadata": {},
   "outputs": [
    {
     "name": "stdout",
     "output_type": "stream",
     "text": [
      "The current value of your 1.2 BTC is $20409.80\n",
      "The current value of your 5.3 ETH is $2894.39\n"
     ]
    }
   ],
   "source": [
    "# Fetch current BTC price\n",
    "btc_current_price = btc_data[\"data\"][\"1\"][\"quotes\"][\"CAD\"][\"price\"]\n",
    "\n",
    "# Fetch current ETH price\n",
    "eth_current_price = eth_data[\"data\"][\"1027\"][\"quotes\"][\"CAD\"][\"price\"]\n",
    "\n",
    "# Compute current value of my crpto\n",
    "my_btc_value = btc_current_price * my_btc\n",
    "my_eth_value = eth_current_price * my_eth\n",
    "\n",
    "# Print current crypto wallet balance\n",
    "print(f\"The current value of your {my_btc} BTC is ${my_btc_value:0.2f}\")\n",
    "print(f\"The current value of your {my_eth} ETH is ${my_eth_value:0.2f}\")\n"
   ]
  },
  {
   "cell_type": "markdown",
   "metadata": {},
   "source": [
    "### Collect Investments Data Using Alpaca: `SPY` (stocks) and `AGG` (bonds)"
   ]
  },
  {
   "cell_type": "code",
   "execution_count": 8,
   "metadata": {},
   "outputs": [],
   "source": [
    "# Current amount of shares\n",
    "my_agg = 200\n",
    "my_spy = 50"
   ]
  },
  {
   "cell_type": "code",
   "execution_count": 9,
   "metadata": {},
   "outputs": [
    {
     "name": "stdout",
     "output_type": "stream",
     "text": [
      "Alpaca Key type: <class 'str'>\n",
      "Alpaca Secret Key type: <class 'str'>\n"
     ]
    }
   ],
   "source": [
    "# Set Alpaca API key and secret\n",
    "alpaca_api_key = os.getenv(\"ALPACA_API_KEY\")\n",
    "alpaca_secret_key = os.getenv(\"ALPACA_SECRET_KEY\")\n",
    "\n",
    "print(f\"Alpaca Key type: {type(alpaca_api_key)}\")\n",
    "print(f\"Alpaca Secret Key type: {type(alpaca_secret_key)}\")"
   ]
  },
  {
   "cell_type": "code",
   "execution_count": 10,
   "metadata": {},
   "outputs": [],
   "source": [
    "# Create the Alpaca API object\n",
    "alpaca = tradeapi.REST(\n",
    "    alpaca_api_key,\n",
    "    alpaca_secret_key,\n",
    "    api_version=\"v2\")"
   ]
  },
  {
   "cell_type": "code",
   "execution_count": 11,
   "metadata": {},
   "outputs": [
    {
     "data": {
      "text/html": [
       "<div>\n",
       "<style scoped>\n",
       "    .dataframe tbody tr th:only-of-type {\n",
       "        vertical-align: middle;\n",
       "    }\n",
       "\n",
       "    .dataframe tbody tr th {\n",
       "        vertical-align: top;\n",
       "    }\n",
       "\n",
       "    .dataframe thead tr th {\n",
       "        text-align: left;\n",
       "    }\n",
       "</style>\n",
       "<table border=\"1\" class=\"dataframe\">\n",
       "  <thead>\n",
       "    <tr>\n",
       "      <th></th>\n",
       "      <th colspan=\"5\" halign=\"left\">AGG</th>\n",
       "      <th colspan=\"5\" halign=\"left\">SPY</th>\n",
       "    </tr>\n",
       "    <tr>\n",
       "      <th></th>\n",
       "      <th>open</th>\n",
       "      <th>high</th>\n",
       "      <th>low</th>\n",
       "      <th>close</th>\n",
       "      <th>volume</th>\n",
       "      <th>open</th>\n",
       "      <th>high</th>\n",
       "      <th>low</th>\n",
       "      <th>close</th>\n",
       "      <th>volume</th>\n",
       "    </tr>\n",
       "  </thead>\n",
       "  <tbody>\n",
       "    <tr>\n",
       "      <th>2020-10-22 00:00:00-04:00</th>\n",
       "      <td>117.51</td>\n",
       "      <td>117.54</td>\n",
       "      <td>117.3</td>\n",
       "      <td>117.3779</td>\n",
       "      <td>2623041</td>\n",
       "      <td>342.96</td>\n",
       "      <td>343.77</td>\n",
       "      <td>340.65</td>\n",
       "      <td>342.43</td>\n",
       "      <td>19561437</td>\n",
       "    </tr>\n",
       "  </tbody>\n",
       "</table>\n",
       "</div>"
      ],
      "text/plain": [
       "                              AGG                                       SPY  \\\n",
       "                             open    high    low     close   volume    open   \n",
       "2020-10-22 00:00:00-04:00  117.51  117.54  117.3  117.3779  2623041  342.96   \n",
       "\n",
       "                                                             \n",
       "                             high     low   close    volume  \n",
       "2020-10-22 00:00:00-04:00  343.77  340.65  342.43  19561437  "
      ]
     },
     "execution_count": 11,
     "metadata": {},
     "output_type": "execute_result"
    }
   ],
   "source": [
    "# Format current date as ISO format\n",
    "today = pd.Timestamp(\"2020-10-22\", tz=\"America/New_York\").isoformat()\n",
    "\n",
    "# Set the tickers\n",
    "tickers = [\"AGG\", \"SPY\"]\n",
    "\n",
    "# Set timeframe to '1D' for Alpaca API\n",
    "timeframe = \"1D\"\n",
    "\n",
    "# Get current closing prices for SPY and AGG\n",
    "df_portfolio = alpaca.get_barset(\n",
    "    tickers,\n",
    "    timeframe,\n",
    "    start = today,\n",
    "    end = today\n",
    ").df\n",
    "\n",
    "# Preview DataFrame\n",
    "df_portfolio"
   ]
  },
  {
   "cell_type": "code",
   "execution_count": 12,
   "metadata": {},
   "outputs": [
    {
     "name": "stdout",
     "output_type": "stream",
     "text": [
      "Current AGG closing price: $117.3779\n",
      "Current SPY closing price: $342.43\n"
     ]
    }
   ],
   "source": [
    "# Pick AGG and SPY close prices\n",
    "agg_close_price = df_portfolio[\"AGG\"][\"close\"][\"2020-10-22 00:00:00-4:00\"]\n",
    "spy_close_price = df_portfolio[\"SPY\"][\"close\"][\"2020-10-22 00:00:00-4:00\"]\n",
    "\n",
    "\n",
    "# Print AGG and SPY close prices\n",
    "print(f\"Current AGG closing price: ${agg_close_price}\")\n",
    "print(f\"Current SPY closing price: ${spy_close_price}\")"
   ]
  },
  {
   "cell_type": "code",
   "execution_count": 13,
   "metadata": {},
   "outputs": [
    {
     "name": "stdout",
     "output_type": "stream",
     "text": [
      "The current value of your 50 SPY shares is $17121.50\n",
      "The current value of your 200 AGG shares is $23475.58\n"
     ]
    }
   ],
   "source": [
    "# Compute the current value of shares\n",
    "my_spy_value = my_spy * spy_close_price\n",
    "my_agg_value = my_agg * agg_close_price\n",
    "\n",
    "# Print current value of share\n",
    "print(f\"The current value of your {my_spy} SPY shares is ${my_spy_value:0.2f}\")\n",
    "print(f\"The current value of your {my_agg} AGG shares is ${my_agg_value:0.2f}\")"
   ]
  },
  {
   "cell_type": "markdown",
   "metadata": {},
   "source": [
    "### Savings Health Analysis"
   ]
  },
  {
   "cell_type": "code",
   "execution_count": 14,
   "metadata": {},
   "outputs": [
    {
     "data": {
      "text/html": [
       "<div>\n",
       "<style scoped>\n",
       "    .dataframe tbody tr th:only-of-type {\n",
       "        vertical-align: middle;\n",
       "    }\n",
       "\n",
       "    .dataframe tbody tr th {\n",
       "        vertical-align: top;\n",
       "    }\n",
       "\n",
       "    .dataframe thead th {\n",
       "        text-align: right;\n",
       "    }\n",
       "</style>\n",
       "<table border=\"1\" class=\"dataframe\">\n",
       "  <thead>\n",
       "    <tr style=\"text-align: right;\">\n",
       "      <th></th>\n",
       "      <th>amount</th>\n",
       "    </tr>\n",
       "  </thead>\n",
       "  <tbody>\n",
       "    <tr>\n",
       "      <th>crypto</th>\n",
       "      <td>23304.188892</td>\n",
       "    </tr>\n",
       "    <tr>\n",
       "      <th>shares</th>\n",
       "      <td>40597.080000</td>\n",
       "    </tr>\n",
       "  </tbody>\n",
       "</table>\n",
       "</div>"
      ],
      "text/plain": [
       "              amount\n",
       "crypto  23304.188892\n",
       "shares  40597.080000"
      ]
     },
     "metadata": {},
     "output_type": "display_data"
    }
   ],
   "source": [
    "# Set monthly household income\n",
    "monthly_income = 12000\n",
    "total_crypto = my_btc_value + my_eth_value\n",
    "total_shares = my_spy_value + my_agg_value\n",
    "# Create savings DataFrame\n",
    "savings_data = {\n",
    "    \"amount\": [total_crypto, total_shares]\n",
    "}\n",
    "tickers = [\"crypto\",\"shares\"]\n",
    "\n",
    "df_savings = pd.DataFrame(savings_data, index=tickers)\n",
    "# Display savings DataFrame\n",
    "display(df_savings)"
   ]
  },
  {
   "cell_type": "code",
   "execution_count": 15,
   "metadata": {},
   "outputs": [
    {
     "data": {
      "text/plain": [
       "<matplotlib.axes._subplots.AxesSubplot at 0x193510104f0>"
      ]
     },
     "execution_count": 15,
     "metadata": {},
     "output_type": "execute_result"
    },
    {
     "data": {
      "image/png": "[encoded data removed]",
      "text/plain": [
       "<Figure size 432x288 with 1 Axes>"
      ]
     },
     "metadata": {},
     "output_type": "display_data"
    }
   ],
   "source": [
    "# Plot savings pie chart\n",
    "df_savings.plot(kind=\"pie\", y=\"amount\", legend =True)"
   ]
  },
  {
   "cell_type": "code",
   "execution_count": 16,
   "metadata": {},
   "outputs": [
    {
     "name": "stdout",
     "output_type": "stream",
     "text": [
      "Congratulations, you have enough money in your emergency fund\n"
     ]
    }
   ],
   "source": [
    "# Set ideal emergency fund\n",
    "emergency_fund = monthly_income * 3\n",
    "\n",
    "# Calculate total amount of savings\n",
    "total_savings = total_crypto + total_shares\n",
    "\n",
    "difference = emergency_fund - total_savings\n",
    "\n",
    "# Validate saving health\n",
    "if total_savings > emergency_fund:\n",
    "    print(f\"Congratulations, you have enough money in your emergency fund\")\n",
    "elif total_savings == emergency_fund:\n",
    "    print(f\"Congratulations, you have reached your financial goal in your emergency fund\")\n",
    "elif total_savings < emergency_fund:\n",
    "    print(f\"You are ${difference} away from reaching your financial goal in your emergency fund\")"
   ]
  },
  {
   "cell_type": "markdown",
   "metadata": {},
   "source": [
    "## Part 2 - Retirement Planning\n",
    "\n",
    "### Monte Carlo Simulation"
   ]
  },
  {
   "cell_type": "code",
   "execution_count": 17,
   "metadata": {},
   "outputs": [],
   "source": [
    "# Set start and end dates of five years back from today.\n",
    "# Sample results may vary from the solution based on the time frame chosen\n",
    "start_date = pd.Timestamp('2015-08-07', tz='America/New_York').isoformat()\n",
    "end_date = pd.Timestamp('2020-08-07', tz='America/New_York').isoformat()"
   ]
  },
  {
   "cell_type": "code",
   "execution_count": 18,
   "metadata": {},
   "outputs": [
    {
     "data": {
      "text/html": [
       "<div>\n",
       "<style scoped>\n",
       "    .dataframe tbody tr th:only-of-type {\n",
       "        vertical-align: middle;\n",
       "    }\n",
       "\n",
       "    .dataframe tbody tr th {\n",
       "        vertical-align: top;\n",
       "    }\n",
       "\n",
       "    .dataframe thead tr th {\n",
       "        text-align: left;\n",
       "    }\n",
       "</style>\n",
       "<table border=\"1\" class=\"dataframe\">\n",
       "  <thead>\n",
       "    <tr>\n",
       "      <th></th>\n",
       "      <th colspan=\"5\" halign=\"left\">AGG</th>\n",
       "      <th colspan=\"5\" halign=\"left\">SPY</th>\n",
       "    </tr>\n",
       "    <tr>\n",
       "      <th></th>\n",
       "      <th>open</th>\n",
       "      <th>high</th>\n",
       "      <th>low</th>\n",
       "      <th>close</th>\n",
       "      <th>volume</th>\n",
       "      <th>open</th>\n",
       "      <th>high</th>\n",
       "      <th>low</th>\n",
       "      <th>close</th>\n",
       "      <th>volume</th>\n",
       "    </tr>\n",
       "  </thead>\n",
       "  <tbody>\n",
       "    <tr>\n",
       "      <th>2015-08-07 00:00:00-04:00</th>\n",
       "      <td>109.14</td>\n",
       "      <td>109.2750</td>\n",
       "      <td>109.035</td>\n",
       "      <td>109.21</td>\n",
       "      <td>2041167.0</td>\n",
       "      <td>208.16</td>\n",
       "      <td>208.34</td>\n",
       "      <td>206.87</td>\n",
       "      <td>207.93</td>\n",
       "      <td>87669782</td>\n",
       "    </tr>\n",
       "    <tr>\n",
       "      <th>2015-08-10 00:00:00-04:00</th>\n",
       "      <td>109.15</td>\n",
       "      <td>109.1700</td>\n",
       "      <td>108.920</td>\n",
       "      <td>109.06</td>\n",
       "      <td>1149778.0</td>\n",
       "      <td>209.28</td>\n",
       "      <td>210.67</td>\n",
       "      <td>209.28</td>\n",
       "      <td>210.58</td>\n",
       "      <td>66755890</td>\n",
       "    </tr>\n",
       "    <tr>\n",
       "      <th>2015-08-11 00:00:00-04:00</th>\n",
       "      <td>109.42</td>\n",
       "      <td>109.5765</td>\n",
       "      <td>109.284</td>\n",
       "      <td>109.42</td>\n",
       "      <td>1420907.0</td>\n",
       "      <td>208.98</td>\n",
       "      <td>209.47</td>\n",
       "      <td>207.76</td>\n",
       "      <td>208.63</td>\n",
       "      <td>88424557</td>\n",
       "    </tr>\n",
       "    <tr>\n",
       "      <th>2015-08-12 00:00:00-04:00</th>\n",
       "      <td>109.55</td>\n",
       "      <td>109.7100</td>\n",
       "      <td>109.350</td>\n",
       "      <td>109.36</td>\n",
       "      <td>1468979.0</td>\n",
       "      <td>207.11</td>\n",
       "      <td>209.14</td>\n",
       "      <td>205.36</td>\n",
       "      <td>208.89</td>\n",
       "      <td>136171450</td>\n",
       "    </tr>\n",
       "    <tr>\n",
       "      <th>2015-08-13 00:00:00-04:00</th>\n",
       "      <td>109.36</td>\n",
       "      <td>109.3651</td>\n",
       "      <td>109.110</td>\n",
       "      <td>109.15</td>\n",
       "      <td>1465173.0</td>\n",
       "      <td>208.73</td>\n",
       "      <td>209.55</td>\n",
       "      <td>208.01</td>\n",
       "      <td>208.63</td>\n",
       "      <td>77197796</td>\n",
       "    </tr>\n",
       "  </tbody>\n",
       "</table>\n",
       "</div>"
      ],
      "text/plain": [
       "                              AGG                                        \\\n",
       "                             open      high      low   close     volume   \n",
       "2015-08-07 00:00:00-04:00  109.14  109.2750  109.035  109.21  2041167.0   \n",
       "2015-08-10 00:00:00-04:00  109.15  109.1700  108.920  109.06  1149778.0   \n",
       "2015-08-11 00:00:00-04:00  109.42  109.5765  109.284  109.42  1420907.0   \n",
       "2015-08-12 00:00:00-04:00  109.55  109.7100  109.350  109.36  1468979.0   \n",
       "2015-08-13 00:00:00-04:00  109.36  109.3651  109.110  109.15  1465173.0   \n",
       "\n",
       "                              SPY                                     \n",
       "                             open    high     low   close     volume  \n",
       "2015-08-07 00:00:00-04:00  208.16  208.34  206.87  207.93   87669782  \n",
       "2015-08-10 00:00:00-04:00  209.28  210.67  209.28  210.58   66755890  \n",
       "2015-08-11 00:00:00-04:00  208.98  209.47  207.76  208.63   88424557  \n",
       "2015-08-12 00:00:00-04:00  207.11  209.14  205.36  208.89  136171450  \n",
       "2015-08-13 00:00:00-04:00  208.73  209.55  208.01  208.63   77197796  "
      ]
     },
     "execution_count": 18,
     "metadata": {},
     "output_type": "execute_result"
    }
   ],
   "source": [
    "# Get 5 years' worth of historical data for SPY and AGG\n",
    "\n",
    "# Create the Alpaca API object\n",
    "alpaca = tradeapi.REST(\n",
    "    alpaca_api_key,\n",
    "    alpaca_secret_key,\n",
    "    api_version=\"v2\")\n",
    "\n",
    "# Set the tickers\n",
    "tickers = [\"AGG\", \"SPY\"]\n",
    "\n",
    "# Set timeframe to '1D' for Alpaca API\n",
    "timeframe = \"1D\"\n",
    "\n",
    "# Get data for past 5 years for SPY and AGG\n",
    "df_stock_data = alpaca.get_barset(\n",
    "    tickers,\n",
    "    timeframe,\n",
    "    start = start_date,\n",
    "    end = end_date\n",
    ").df\n",
    "\n",
    "\n",
    "# Display sample data\n",
    "df_stock_data.head()"
   ]
  },
  {
   "cell_type": "code",
   "execution_count": 19,
   "metadata": {},
   "outputs": [],
   "source": [
    "# Configuring a Monte Carlo simulation to forecast 30 years cumulative returns\n",
    "MC_30year = MCSimulation(\n",
    "    portfolio_data = df_stock_data,\n",
    "    weights = [.40,.60],\n",
    "    num_simulation = 500,\n",
    "    num_trading_days = 252*30\n",
    ")"
   ]
  },
  {
   "cell_type": "code",
   "execution_count": 20,
   "metadata": {},
   "outputs": [
    {
     "data": {
      "text/html": [
       "<div>\n",
       "<style scoped>\n",
       "    .dataframe tbody tr th:only-of-type {\n",
       "        vertical-align: middle;\n",
       "    }\n",
       "\n",
       "    .dataframe tbody tr th {\n",
       "        vertical-align: top;\n",
       "    }\n",
       "\n",
       "    .dataframe thead tr th {\n",
       "        text-align: left;\n",
       "    }\n",
       "</style>\n",
       "<table border=\"1\" class=\"dataframe\">\n",
       "  <thead>\n",
       "    <tr>\n",
       "      <th></th>\n",
       "      <th colspan=\"6\" halign=\"left\">AGG</th>\n",
       "      <th colspan=\"6\" halign=\"left\">SPY</th>\n",
       "    </tr>\n",
       "    <tr>\n",
       "      <th></th>\n",
       "      <th>open</th>\n",
       "      <th>high</th>\n",
       "      <th>low</th>\n",
       "      <th>close</th>\n",
       "      <th>volume</th>\n",
       "      <th>daily_return</th>\n",
       "      <th>open</th>\n",
       "      <th>high</th>\n",
       "      <th>low</th>\n",
       "      <th>close</th>\n",
       "      <th>volume</th>\n",
       "      <th>daily_return</th>\n",
       "    </tr>\n",
       "  </thead>\n",
       "  <tbody>\n",
       "    <tr>\n",
       "      <th>2015-08-07 00:00:00-04:00</th>\n",
       "      <td>109.14</td>\n",
       "      <td>109.2750</td>\n",
       "      <td>109.035</td>\n",
       "      <td>109.21</td>\n",
       "      <td>2041167.0</td>\n",
       "      <td>NaN</td>\n",
       "      <td>208.16</td>\n",
       "      <td>208.34</td>\n",
       "      <td>206.87</td>\n",
       "      <td>207.93</td>\n",
       "      <td>87669782</td>\n",
       "      <td>NaN</td>\n",
       "    </tr>\n",
       "    <tr>\n",
       "      <th>2015-08-10 00:00:00-04:00</th>\n",
       "      <td>109.15</td>\n",
       "      <td>109.1700</td>\n",
       "      <td>108.920</td>\n",
       "      <td>109.06</td>\n",
       "      <td>1149778.0</td>\n",
       "      <td>-0.001374</td>\n",
       "      <td>209.28</td>\n",
       "      <td>210.67</td>\n",
       "      <td>209.28</td>\n",
       "      <td>210.58</td>\n",
       "      <td>66755890</td>\n",
       "      <td>0.012745</td>\n",
       "    </tr>\n",
       "    <tr>\n",
       "      <th>2015-08-11 00:00:00-04:00</th>\n",
       "      <td>109.42</td>\n",
       "      <td>109.5765</td>\n",
       "      <td>109.284</td>\n",
       "      <td>109.42</td>\n",
       "      <td>1420907.0</td>\n",
       "      <td>0.003301</td>\n",
       "      <td>208.98</td>\n",
       "      <td>209.47</td>\n",
       "      <td>207.76</td>\n",
       "      <td>208.63</td>\n",
       "      <td>88424557</td>\n",
       "      <td>-0.009260</td>\n",
       "    </tr>\n",
       "    <tr>\n",
       "      <th>2015-08-12 00:00:00-04:00</th>\n",
       "      <td>109.55</td>\n",
       "      <td>109.7100</td>\n",
       "      <td>109.350</td>\n",
       "      <td>109.36</td>\n",
       "      <td>1468979.0</td>\n",
       "      <td>-0.000548</td>\n",
       "      <td>207.11</td>\n",
       "      <td>209.14</td>\n",
       "      <td>205.36</td>\n",
       "      <td>208.89</td>\n",
       "      <td>136171450</td>\n",
       "      <td>0.001246</td>\n",
       "    </tr>\n",
       "    <tr>\n",
       "      <th>2015-08-13 00:00:00-04:00</th>\n",
       "      <td>109.36</td>\n",
       "      <td>109.3651</td>\n",
       "      <td>109.110</td>\n",
       "      <td>109.15</td>\n",
       "      <td>1465173.0</td>\n",
       "      <td>-0.001920</td>\n",
       "      <td>208.73</td>\n",
       "      <td>209.55</td>\n",
       "      <td>208.01</td>\n",
       "      <td>208.63</td>\n",
       "      <td>77197796</td>\n",
       "      <td>-0.001245</td>\n",
       "    </tr>\n",
       "  </tbody>\n",
       "</table>\n",
       "</div>"
      ],
      "text/plain": [
       "                              AGG                                        \\\n",
       "                             open      high      low   close     volume   \n",
       "2015-08-07 00:00:00-04:00  109.14  109.2750  109.035  109.21  2041167.0   \n",
       "2015-08-10 00:00:00-04:00  109.15  109.1700  108.920  109.06  1149778.0   \n",
       "2015-08-11 00:00:00-04:00  109.42  109.5765  109.284  109.42  1420907.0   \n",
       "2015-08-12 00:00:00-04:00  109.55  109.7100  109.350  109.36  1468979.0   \n",
       "2015-08-13 00:00:00-04:00  109.36  109.3651  109.110  109.15  1465173.0   \n",
       "\n",
       "                                           SPY                          \\\n",
       "                          daily_return    open    high     low   close   \n",
       "2015-08-07 00:00:00-04:00          NaN  208.16  208.34  206.87  207.93   \n",
       "2015-08-10 00:00:00-04:00    -0.001374  209.28  210.67  209.28  210.58   \n",
       "2015-08-11 00:00:00-04:00     0.003301  208.98  209.47  207.76  208.63   \n",
       "2015-08-12 00:00:00-04:00    -0.000548  207.11  209.14  205.36  208.89   \n",
       "2015-08-13 00:00:00-04:00    -0.001920  208.73  209.55  208.01  208.63   \n",
       "\n",
       "                                                   \n",
       "                              volume daily_return  \n",
       "2015-08-07 00:00:00-04:00   87669782          NaN  \n",
       "2015-08-10 00:00:00-04:00   66755890     0.012745  \n",
       "2015-08-11 00:00:00-04:00   88424557    -0.009260  \n",
       "2015-08-12 00:00:00-04:00  136171450     0.001246  \n",
       "2015-08-13 00:00:00-04:00   77197796    -0.001245  "
      ]
     },
     "execution_count": 20,
     "metadata": {},
     "output_type": "execute_result"
    }
   ],
   "source": [
    "# Printing the simulation input data\n",
    "MC_30year.portfolio_data.head()"
   ]
  },
  {
   "cell_type": "code",
   "execution_count": 21,
   "metadata": {},
   "outputs": [
    {
     "name": "stdout",
     "output_type": "stream",
     "text": [
      "Running Monte Carlo simulation number 0.\n",
      "Running Monte Carlo simulation number 10.\n",
      "Running Monte Carlo simulation number 20.\n",
      "Running Monte Carlo simulation number 30.\n",
      "Running Monte Carlo simulation number 40.\n",
      "Running Monte Carlo simulation number 50.\n",
      "Running Monte Carlo simulation number 60.\n",
      "Running Monte Carlo simulation number 70.\n",
      "Running Monte Carlo simulation number 80.\n",
      "Running Monte Carlo simulation number 90.\n",
      "Running Monte Carlo simulation number 100.\n",
      "Running Monte Carlo simulation number 110.\n",
      "Running Monte Carlo simulation number 120.\n",
      "Running Monte Carlo simulation number 130.\n",
      "Running Monte Carlo simulation number 140.\n",
      "Running Monte Carlo simulation number 150.\n",
      "Running Monte Carlo simulation number 160.\n",
      "Running Monte Carlo simulation number 170.\n",
      "Running Monte Carlo simulation number 180.\n",
      "Running Monte Carlo simulation number 190.\n",
      "Running Monte Carlo simulation number 200.\n",
      "Running Monte Carlo simulation number 210.\n",
      "Running Monte Carlo simulation number 220.\n",
      "Running Monte Carlo simulation number 230.\n",
      "Running Monte Carlo simulation number 240.\n",
      "Running Monte Carlo simulation number 250.\n",
      "Running Monte Carlo simulation number 260.\n",
      "Running Monte Carlo simulation number 270.\n",
      "Running Monte Carlo simulation number 280.\n",
      "Running Monte Carlo simulation number 290.\n",
      "Running Monte Carlo simulation number 300.\n",
      "Running Monte Carlo simulation number 310.\n",
      "Running Monte Carlo simulation number 320.\n",
      "Running Monte Carlo simulation number 330.\n",
      "Running Monte Carlo simulation number 340.\n",
      "Running Monte Carlo simulation number 350.\n",
      "Running Monte Carlo simulation number 360.\n",
      "Running Monte Carlo simulation number 370.\n",
      "Running Monte Carlo simulation number 380.\n",
      "Running Monte Carlo simulation number 390.\n",
      "Running Monte Carlo simulation number 400.\n",
      "Running Monte Carlo simulation number 410.\n",
      "Running Monte Carlo simulation number 420.\n",
      "Running Monte Carlo simulation number 430.\n",
      "Running Monte Carlo simulation number 440.\n",
      "Running Monte Carlo simulation number 450.\n",
      "Running Monte Carlo simulation number 460.\n",
      "Running Monte Carlo simulation number 470.\n",
      "Running Monte Carlo simulation number 480.\n",
      "Running Monte Carlo simulation number 490.\n"
     ]
    },
    {
     "data": {
      "text/html": [
       "<div>\n",
       "<style scoped>\n",
       "    .dataframe tbody tr th:only-of-type {\n",
       "        vertical-align: middle;\n",
       "    }\n",
       "\n",
       "    .dataframe tbody tr th {\n",
       "        vertical-align: top;\n",
       "    }\n",
       "\n",
       "    .dataframe thead th {\n",
       "        text-align: right;\n",
       "    }\n",
       "</style>\n",
       "<table border=\"1\" class=\"dataframe\">\n",
       "  <thead>\n",
       "    <tr style=\"text-align: right;\">\n",
       "      <th></th>\n",
       "      <th>0</th>\n",
       "      <th>1</th>\n",
       "      <th>2</th>\n",
       "      <th>3</th>\n",
       "      <th>4</th>\n",
       "      <th>5</th>\n",
       "      <th>6</th>\n",
       "      <th>7</th>\n",
       "      <th>8</th>\n",
       "      <th>9</th>\n",
       "      <th>...</th>\n",
       "      <th>490</th>\n",
       "      <th>491</th>\n",
       "      <th>492</th>\n",
       "      <th>493</th>\n",
       "      <th>494</th>\n",
       "      <th>495</th>\n",
       "      <th>496</th>\n",
       "      <th>497</th>\n",
       "      <th>498</th>\n",
       "      <th>499</th>\n",
       "    </tr>\n",
       "  </thead>\n",
       "  <tbody>\n",
       "    <tr>\n",
       "      <th>0</th>\n",
       "      <td>1.000000</td>\n",
       "      <td>1.000000</td>\n",
       "      <td>1.000000</td>\n",
       "      <td>1.000000</td>\n",
       "      <td>1.000000</td>\n",
       "      <td>1.000000</td>\n",
       "      <td>1.000000</td>\n",
       "      <td>1.000000</td>\n",
       "      <td>1.000000</td>\n",
       "      <td>1.000000</td>\n",
       "      <td>...</td>\n",
       "      <td>1.000000</td>\n",
       "      <td>1.000000</td>\n",
       "      <td>1.000000</td>\n",
       "      <td>1.000000</td>\n",
       "      <td>1.000000</td>\n",
       "      <td>1.000000</td>\n",
       "      <td>1.000000</td>\n",
       "      <td>1.000000</td>\n",
       "      <td>1.000000</td>\n",
       "      <td>1.000000</td>\n",
       "    </tr>\n",
       "    <tr>\n",
       "      <th>1</th>\n",
       "      <td>0.990653</td>\n",
       "      <td>1.007047</td>\n",
       "      <td>0.992678</td>\n",
       "      <td>1.002444</td>\n",
       "      <td>0.999706</td>\n",
       "      <td>1.005700</td>\n",
       "      <td>0.993805</td>\n",
       "      <td>1.007636</td>\n",
       "      <td>1.011687</td>\n",
       "      <td>0.996046</td>\n",
       "      <td>...</td>\n",
       "      <td>1.003551</td>\n",
       "      <td>0.994601</td>\n",
       "      <td>0.998107</td>\n",
       "      <td>1.010639</td>\n",
       "      <td>1.009396</td>\n",
       "      <td>1.016959</td>\n",
       "      <td>1.008474</td>\n",
       "      <td>1.004929</td>\n",
       "      <td>1.004640</td>\n",
       "      <td>1.009267</td>\n",
       "    </tr>\n",
       "    <tr>\n",
       "      <th>2</th>\n",
       "      <td>1.000962</td>\n",
       "      <td>1.013987</td>\n",
       "      <td>0.997841</td>\n",
       "      <td>0.996053</td>\n",
       "      <td>1.006956</td>\n",
       "      <td>1.006490</td>\n",
       "      <td>0.991691</td>\n",
       "      <td>1.006547</td>\n",
       "      <td>1.007064</td>\n",
       "      <td>0.993676</td>\n",
       "      <td>...</td>\n",
       "      <td>1.002406</td>\n",
       "      <td>0.985169</td>\n",
       "      <td>1.003147</td>\n",
       "      <td>1.006951</td>\n",
       "      <td>1.003505</td>\n",
       "      <td>1.009275</td>\n",
       "      <td>1.004269</td>\n",
       "      <td>1.000592</td>\n",
       "      <td>0.994447</td>\n",
       "      <td>0.997666</td>\n",
       "    </tr>\n",
       "    <tr>\n",
       "      <th>3</th>\n",
       "      <td>0.997349</td>\n",
       "      <td>1.011546</td>\n",
       "      <td>1.003619</td>\n",
       "      <td>0.998483</td>\n",
       "      <td>1.018969</td>\n",
       "      <td>1.005234</td>\n",
       "      <td>0.987388</td>\n",
       "      <td>1.002468</td>\n",
       "      <td>1.011227</td>\n",
       "      <td>0.993060</td>\n",
       "      <td>...</td>\n",
       "      <td>0.996447</td>\n",
       "      <td>0.985931</td>\n",
       "      <td>0.995009</td>\n",
       "      <td>1.011190</td>\n",
       "      <td>1.018924</td>\n",
       "      <td>1.018592</td>\n",
       "      <td>0.988918</td>\n",
       "      <td>0.987422</td>\n",
       "      <td>0.993122</td>\n",
       "      <td>0.995358</td>\n",
       "    </tr>\n",
       "    <tr>\n",
       "      <th>4</th>\n",
       "      <td>1.004024</td>\n",
       "      <td>1.010753</td>\n",
       "      <td>0.982398</td>\n",
       "      <td>0.999408</td>\n",
       "      <td>1.021466</td>\n",
       "      <td>1.012917</td>\n",
       "      <td>0.989173</td>\n",
       "      <td>1.002965</td>\n",
       "      <td>1.007815</td>\n",
       "      <td>0.986752</td>\n",
       "      <td>...</td>\n",
       "      <td>0.997450</td>\n",
       "      <td>0.972199</td>\n",
       "      <td>0.982997</td>\n",
       "      <td>1.024753</td>\n",
       "      <td>1.025982</td>\n",
       "      <td>1.011213</td>\n",
       "      <td>0.994279</td>\n",
       "      <td>0.988452</td>\n",
       "      <td>1.000090</td>\n",
       "      <td>0.996224</td>\n",
       "    </tr>\n",
       "    <tr>\n",
       "      <th>...</th>\n",
       "      <td>...</td>\n",
       "      <td>...</td>\n",
       "      <td>...</td>\n",
       "      <td>...</td>\n",
       "      <td>...</td>\n",
       "      <td>...</td>\n",
       "      <td>...</td>\n",
       "      <td>...</td>\n",
       "      <td>...</td>\n",
       "      <td>...</td>\n",
       "      <td>...</td>\n",
       "      <td>...</td>\n",
       "      <td>...</td>\n",
       "      <td>...</td>\n",
       "      <td>...</td>\n",
       "      <td>...</td>\n",
       "      <td>...</td>\n",
       "      <td>...</td>\n",
       "      <td>...</td>\n",
       "      <td>...</td>\n",
       "      <td>...</td>\n",
       "    </tr>\n",
       "    <tr>\n",
       "      <th>7556</th>\n",
       "      <td>9.747524</td>\n",
       "      <td>3.879406</td>\n",
       "      <td>9.181247</td>\n",
       "      <td>7.094130</td>\n",
       "      <td>16.989811</td>\n",
       "      <td>9.384997</td>\n",
       "      <td>4.566338</td>\n",
       "      <td>8.060259</td>\n",
       "      <td>6.668721</td>\n",
       "      <td>7.595825</td>\n",
       "      <td>...</td>\n",
       "      <td>13.165462</td>\n",
       "      <td>5.928817</td>\n",
       "      <td>10.199788</td>\n",
       "      <td>2.486442</td>\n",
       "      <td>5.502956</td>\n",
       "      <td>6.339023</td>\n",
       "      <td>2.658096</td>\n",
       "      <td>13.303462</td>\n",
       "      <td>2.606930</td>\n",
       "      <td>4.450552</td>\n",
       "    </tr>\n",
       "    <tr>\n",
       "      <th>7557</th>\n",
       "      <td>9.666221</td>\n",
       "      <td>3.887521</td>\n",
       "      <td>9.109600</td>\n",
       "      <td>7.065145</td>\n",
       "      <td>17.020794</td>\n",
       "      <td>9.308012</td>\n",
       "      <td>4.600950</td>\n",
       "      <td>8.118786</td>\n",
       "      <td>6.692032</td>\n",
       "      <td>7.653800</td>\n",
       "      <td>...</td>\n",
       "      <td>13.173006</td>\n",
       "      <td>5.934683</td>\n",
       "      <td>10.159737</td>\n",
       "      <td>2.473648</td>\n",
       "      <td>5.521145</td>\n",
       "      <td>6.374682</td>\n",
       "      <td>2.650151</td>\n",
       "      <td>13.351295</td>\n",
       "      <td>2.566310</td>\n",
       "      <td>4.463010</td>\n",
       "    </tr>\n",
       "    <tr>\n",
       "      <th>7558</th>\n",
       "      <td>9.660126</td>\n",
       "      <td>3.832679</td>\n",
       "      <td>8.988428</td>\n",
       "      <td>7.003768</td>\n",
       "      <td>17.116874</td>\n",
       "      <td>9.183306</td>\n",
       "      <td>4.639841</td>\n",
       "      <td>8.127216</td>\n",
       "      <td>6.611341</td>\n",
       "      <td>7.701307</td>\n",
       "      <td>...</td>\n",
       "      <td>13.211958</td>\n",
       "      <td>5.935084</td>\n",
       "      <td>10.156778</td>\n",
       "      <td>2.474522</td>\n",
       "      <td>5.548545</td>\n",
       "      <td>6.315104</td>\n",
       "      <td>2.610347</td>\n",
       "      <td>13.332624</td>\n",
       "      <td>2.533526</td>\n",
       "      <td>4.433327</td>\n",
       "    </tr>\n",
       "    <tr>\n",
       "      <th>7559</th>\n",
       "      <td>9.690466</td>\n",
       "      <td>3.812345</td>\n",
       "      <td>8.950966</td>\n",
       "      <td>7.034300</td>\n",
       "      <td>17.044262</td>\n",
       "      <td>9.259797</td>\n",
       "      <td>4.653104</td>\n",
       "      <td>8.162173</td>\n",
       "      <td>6.666039</td>\n",
       "      <td>7.692804</td>\n",
       "      <td>...</td>\n",
       "      <td>13.342612</td>\n",
       "      <td>5.956034</td>\n",
       "      <td>10.295469</td>\n",
       "      <td>2.439452</td>\n",
       "      <td>5.545853</td>\n",
       "      <td>6.304647</td>\n",
       "      <td>2.604304</td>\n",
       "      <td>13.368447</td>\n",
       "      <td>2.521897</td>\n",
       "      <td>4.421066</td>\n",
       "    </tr>\n",
       "    <tr>\n",
       "      <th>7560</th>\n",
       "      <td>9.716620</td>\n",
       "      <td>3.871925</td>\n",
       "      <td>8.924234</td>\n",
       "      <td>7.006795</td>\n",
       "      <td>17.240330</td>\n",
       "      <td>9.142547</td>\n",
       "      <td>4.647452</td>\n",
       "      <td>8.190094</td>\n",
       "      <td>6.620957</td>\n",
       "      <td>7.714722</td>\n",
       "      <td>...</td>\n",
       "      <td>13.405368</td>\n",
       "      <td>5.955519</td>\n",
       "      <td>10.406568</td>\n",
       "      <td>2.440827</td>\n",
       "      <td>5.509749</td>\n",
       "      <td>6.423646</td>\n",
       "      <td>2.628180</td>\n",
       "      <td>13.369083</td>\n",
       "      <td>2.496429</td>\n",
       "      <td>4.444428</td>\n",
       "    </tr>\n",
       "  </tbody>\n",
       "</table>\n",
       "<p>7561 rows × 500 columns</p>\n",
       "</div>"
      ],
      "text/plain": [
       "           0         1         2         3          4         5         6    \\\n",
       "0     1.000000  1.000000  1.000000  1.000000   1.000000  1.000000  1.000000   \n",
       "1     0.990653  1.007047  0.992678  1.002444   0.999706  1.005700  0.993805   \n",
       "2     1.000962  1.013987  0.997841  0.996053   1.006956  1.006490  0.991691   \n",
       "3     0.997349  1.011546  1.003619  0.998483   1.018969  1.005234  0.987388   \n",
       "4     1.004024  1.010753  0.982398  0.999408   1.021466  1.012917  0.989173   \n",
       "...        ...       ...       ...       ...        ...       ...       ...   \n",
       "7556  9.747524  3.879406  9.181247  7.094130  16.989811  9.384997  4.566338   \n",
       "7557  9.666221  3.887521  9.109600  7.065145  17.020794  9.308012  4.600950   \n",
       "7558  9.660126  3.832679  8.988428  7.003768  17.116874  9.183306  4.639841   \n",
       "7559  9.690466  3.812345  8.950966  7.034300  17.044262  9.259797  4.653104   \n",
       "7560  9.716620  3.871925  8.924234  7.006795  17.240330  9.142547  4.647452   \n",
       "\n",
       "           7         8         9    ...        490       491        492  \\\n",
       "0     1.000000  1.000000  1.000000  ...   1.000000  1.000000   1.000000   \n",
       "1     1.007636  1.011687  0.996046  ...   1.003551  0.994601   0.998107   \n",
       "2     1.006547  1.007064  0.993676  ...   1.002406  0.985169   1.003147   \n",
       "3     1.002468  1.011227  0.993060  ...   0.996447  0.985931   0.995009   \n",
       "4     1.002965  1.007815  0.986752  ...   0.997450  0.972199   0.982997   \n",
       "...        ...       ...       ...  ...        ...       ...        ...   \n",
       "7556  8.060259  6.668721  7.595825  ...  13.165462  5.928817  10.199788   \n",
       "7557  8.118786  6.692032  7.653800  ...  13.173006  5.934683  10.159737   \n",
       "7558  8.127216  6.611341  7.701307  ...  13.211958  5.935084  10.156778   \n",
       "7559  8.162173  6.666039  7.692804  ...  13.342612  5.956034  10.295469   \n",
       "7560  8.190094  6.620957  7.714722  ...  13.405368  5.955519  10.406568   \n",
       "\n",
       "           493       494       495       496        497       498       499  \n",
       "0     1.000000  1.000000  1.000000  1.000000   1.000000  1.000000  1.000000  \n",
       "1     1.010639  1.009396  1.016959  1.008474   1.004929  1.004640  1.009267  \n",
       "2     1.006951  1.003505  1.009275  1.004269   1.000592  0.994447  0.997666  \n",
       "3     1.011190  1.018924  1.018592  0.988918   0.987422  0.993122  0.995358  \n",
       "4     1.024753  1.025982  1.011213  0.994279   0.988452  1.000090  0.996224  \n",
       "...        ...       ...       ...       ...        ...       ...       ...  \n",
       "7556  2.486442  5.502956  6.339023  2.658096  13.303462  2.606930  4.450552  \n",
       "7557  2.473648  5.521145  6.374682  2.650151  13.351295  2.566310  4.463010  \n",
       "7558  2.474522  5.548545  6.315104  2.610347  13.332624  2.533526  4.433327  \n",
       "7559  2.439452  5.545853  6.304647  2.604304  13.368447  2.521897  4.421066  \n",
       "7560  2.440827  5.509749  6.423646  2.628180  13.369083  2.496429  4.444428  \n",
       "\n",
       "[7561 rows x 500 columns]"
      ]
     },
     "execution_count": 21,
     "metadata": {},
     "output_type": "execute_result"
    }
   ],
   "source": [
    "# Running a Monte Carlo simulation to forecast 30 years cumulative returns\n",
    "MC_30year.calc_cumulative_return()"
   ]
  },
  {
   "cell_type": "code",
   "execution_count": 22,
   "metadata": {},
   "outputs": [
    {
     "data": {
      "image/png": "[encoded data removed]",
      "text/plain": [
       "<Figure size 432x288 with 1 Axes>"
      ]
     },
     "metadata": {
      "needs_background": "light"
     },
     "output_type": "display_data"
    }
   ],
   "source": [
    "# Plot simulation outcomes\n",
    "line_plot = MC_30year.plot_simulation()"
   ]
  },
  {
   "cell_type": "code",
   "execution_count": 27,
   "metadata": {},
   "outputs": [
    {
     "data": {
      "image/png": "[encoded data removed]",
      "text/plain": [
       "<Figure size 432x288 with 1 Axes>"
      ]
     },
     "metadata": {
      "needs_background": "light"
     },
     "output_type": "display_data"
    }
   ],
   "source": [
    "# Plot probability distribution and confidence intervals\n",
    "dist_plot = MC_30year.plot_distribution()"
   ]
  },
  {
   "cell_type": "markdown",
   "metadata": {},
   "source": [
    "### Retirement Analysis"
   ]
  },
  {
   "cell_type": "code",
   "execution_count": 28,
   "metadata": {},
   "outputs": [
    {
     "name": "stdout",
     "output_type": "stream",
     "text": [
      "count           500.000000\n",
      "mean              9.714930\n",
      "std               6.834763\n",
      "min               0.956608\n",
      "25%               5.241773\n",
      "50%               7.729787\n",
      "75%              12.010299\n",
      "max              55.921127\n",
      "95% CI Lower      2.109900\n",
      "95% CI Upper     28.126265\n",
      "Name: 7560, dtype: float64\n"
     ]
    }
   ],
   "source": [
    "# Fetch summary statistics from the Monte Carlo simulation results\n",
    "summary_tbl = MC_30year.summarize_cumulative_return()\n",
    "\n",
    "# Print summary statistics\n",
    "print(summary_tbl)"
   ]
  },
  {
   "cell_type": "markdown",
   "metadata": {},
   "source": [
    "### Calculate the expected portfolio return at the 95% lower and upper confidence intervals based on a `$20,000` initial investment."
   ]
  },
  {
   "cell_type": "code",
   "execution_count": 29,
   "metadata": {},
   "outputs": [
    {
     "name": "stdout",
     "output_type": "stream",
     "text": [
      "There is a 95% chance that an initial investment of $20000 in the portfolio over the next 30 years will end within in the range of $42197.99 and $562525.29\n"
     ]
    }
   ],
   "source": [
    "# Set initial investment\n",
    "initial_investment = 20000\n",
    "\n",
    "# Use the lower and upper `95%` confidence intervals to calculate the range of the possible outcomes of our $20,000\n",
    "ci_lower = round(summary_tbl[8]*20000,2)\n",
    "ci_upper = round(summary_tbl[9]*20000,2)\n",
    "\n",
    "# Print results\n",
    "print(f\"There is a 95% chance that an initial investment of ${initial_investment} in the portfolio\"\n",
    "      f\" over the next 30 years will end within in the range of\"\n",
    "      f\" ${ci_lower} and ${ci_upper}\")"
   ]
  },
  {
   "cell_type": "markdown",
   "metadata": {},
   "source": [
    "### Calculate the expected portfolio return at the `95%` lower and upper confidence intervals based on a `50%` increase in the initial investment."
   ]
  },
  {
   "cell_type": "code",
   "execution_count": 30,
   "metadata": {},
   "outputs": [
    {
     "name": "stdout",
     "output_type": "stream",
     "text": [
      "There is a 95% chance that an initial investment of $30000.0 in the portfolio over the next 30 years will end within in the range of $63296.99 and $843787.94\n"
     ]
    }
   ],
   "source": [
    "# Set initial investment\n",
    "initial_investment2 = 20000 * 1.5\n",
    "\n",
    "# Use the lower and upper `95%` confidence intervals to calculate the range of the possible outcomes of our $30,000\n",
    "ci_lower2 = round(summary_tbl[8]*20000*1.5,2)\n",
    "ci_upper2 = round(summary_tbl[9]*20000*1.5,2)\n",
    "\n",
    "# Print results\n",
    "print(f\"There is a 95% chance that an initial investment of ${initial_investment2} in the portfolio\"\n",
    "      f\" over the next 30 years will end within in the range of\"\n",
    "      f\" ${ci_lower2} and ${ci_upper2}\")"
   ]
  },
  {
   "cell_type": "markdown",
   "metadata": {},
   "source": [
    "## Optional Challenge - Early Retirement\n",
    "\n",
    "\n",
    "### Five Years Retirement Option"
   ]
  },
  {
   "cell_type": "code",
   "execution_count": null,
   "metadata": {},
   "outputs": [],
   "source": [
    "# Configuring a Monte Carlo simulation to forecast 5 years cumulative returns\n",
    "# YOUR CODE HERE!"
   ]
  },
  {
   "cell_type": "code",
   "execution_count": null,
   "metadata": {},
   "outputs": [],
   "source": [
    "# Running a Monte Carlo simulation to forecast 5 years cumulative returns\n",
    "# YOUR CODE HERE!"
   ]
  },
  {
   "cell_type": "code",
   "execution_count": null,
   "metadata": {},
   "outputs": [],
   "source": [
    "# Plot simulation outcomes\n",
    "# YOUR CODE HERE!"
   ]
  },
  {
   "cell_type": "code",
   "execution_count": null,
   "metadata": {},
   "outputs": [],
   "source": [
    "# Plot probability distribution and confidence intervals\n",
    "# YOUR CODE HERE!"
   ]
  },
  {
   "cell_type": "code",
   "execution_count": null,
   "metadata": {},
   "outputs": [],
   "source": [
    "# Fetch summary statistics from the Monte Carlo simulation results\n",
    "# YOUR CODE HERE!\n",
    "\n",
    "# Print summary statistics\n",
    "# YOUR CODE HERE!"
   ]
  },
  {
   "cell_type": "code",
   "execution_count": null,
   "metadata": {},
   "outputs": [],
   "source": [
    "# Set initial investment\n",
    "# YOUR CODE HERE!\n",
    "\n",
    "# Use the lower and upper `95%` confidence intervals to calculate the range of the possible outcomes of our $60,000\n",
    "# YOUR CODE HERE!\n",
    "\n",
    "# Print results\n",
    "print(f\"There is a 95% chance that an initial investment of ${initial_investment} in the portfolio\"\n",
    "      f\" over the next 5 years will end within in the range of\"\n",
    "      f\" ${ci_lower_five} and ${ci_upper_five}\")"
   ]
  },
  {
   "cell_type": "markdown",
   "metadata": {},
   "source": [
    "### Ten Years Retirement Option"
   ]
  },
  {
   "cell_type": "code",
   "execution_count": null,
   "metadata": {},
   "outputs": [],
   "source": [
    "# Configuring a Monte Carlo simulation to forecast 10 years cumulative returns\n",
    "# YOUR CODE HERE!"
   ]
  },
  {
   "cell_type": "code",
   "execution_count": null,
   "metadata": {},
   "outputs": [],
   "source": [
    "# Running a Monte Carlo simulation to forecast 10 years cumulative returns\n",
    "# YOUR CODE HERE!"
   ]
  },
  {
   "cell_type": "code",
   "execution_count": null,
   "metadata": {},
   "outputs": [],
   "source": [
    "# Plot simulation outcomes\n",
    "# YOUR CODE HERE!"
   ]
  },
  {
   "cell_type": "code",
   "execution_count": null,
   "metadata": {},
   "outputs": [],
   "source": [
    "# Plot probability distribution and confidence intervals\n",
    "# YOUR CODE HERE!"
   ]
  },
  {
   "cell_type": "code",
   "execution_count": null,
   "metadata": {},
   "outputs": [],
   "source": [
    "# Fetch summary statistics from the Monte Carlo simulation results\n",
    "# YOUR CODE HERE!\n",
    "\n",
    "# Print summary statistics\n",
    "# YOUR CODE HERE!"
   ]
  },
  {
   "cell_type": "code",
   "execution_count": null,
   "metadata": {},
   "outputs": [],
   "source": [
    "# Set initial investment\n",
    "# YOUR CODE HERE!\n",
    "\n",
    "# Use the lower and upper `95%` confidence intervals to calculate the range of the possible outcomes of our $60,000\n",
    "# YOUR CODE HERE!\n",
    "\n",
    "# Print results\n",
    "print(f\"There is a 95% chance that an initial investment of ${initial_investment} in the portfolio\"\n",
    "      f\" over the next 10 years will end within in the range of\"\n",
    "      f\" ${ci_lower_ten} and ${ci_upper_ten}\")"
   ]
  }
 ],
 "metadata": {
  "kernelspec": {
   "display_name": "Python 3",
   "language": "python",
   "name": "python3"
  },
  "language_info": {
   "codemirror_mode": {
    "name": "ipython",
    "version": 3
   },
   "file_extension": ".py",
   "mimetype": "text/x-python",
   "name": "python",
   "nbconvert_exporter": "python",
   "pygments_lexer": "ipython3",
   "version": "3.8.3"
  }
 },
 "nbformat": 4,
 "nbformat_minor": 4
}
